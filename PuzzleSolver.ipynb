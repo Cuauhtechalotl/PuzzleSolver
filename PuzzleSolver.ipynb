{
 "cells": [
  {
   "cell_type": "code",
   "execution_count": 8,
   "metadata": {
    "collapsed": true,
    "pycharm": {
     "is_executing": false
    }
   },
   "outputs": [
    {
     "data": {
      "text/plain": "True"
     },
     "metadata": {},
     "output_type": "execute_result",
     "execution_count": 8
    }
   ],
   "source": [
    "import cv2\n",
    "\n",
    "img = cv2.imread(\"img/puzzle_rand.jpg\")\n",
    "gray   = cv2.cvtColor(img, cv2.COLOR_BGR2GRAY)\n",
    "gray   = cv2.medianBlur(gray, ksize=5)\n",
    "thresh = cv2.threshold(gray, 130, 255, cv2.THRESH_BINARY)[1]\n",
    "thresh = cv2.blur(thresh, ksize=(3, 3))\n",
    "\n",
    "\n",
    "cv2.imwrite(\"img/test.jpg\",gray)"
   ]
  }
 ],
 "metadata": {
  "kernelspec": {
   "display_name": "Python 3",
   "language": "python",
   "name": "python3"
  },
  "language_info": {
   "codemirror_mode": {
    "name": "ipython",
    "version": 2
   },
   "file_extension": ".py",
   "mimetype": "text/x-python",
   "name": "python",
   "nbconvert_exporter": "python",
   "pygments_lexer": "ipython2",
   "version": "2.7.6"
  },
  "pycharm": {
   "stem_cell": {
    "cell_type": "raw",
    "source": [],
    "metadata": {
     "collapsed": false
    }
   }
  }
 },
 "nbformat": 4,
 "nbformat_minor": 0
}